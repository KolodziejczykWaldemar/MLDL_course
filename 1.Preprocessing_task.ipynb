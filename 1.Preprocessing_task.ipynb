{
 "cells": [
  {
   "cell_type": "code",
   "execution_count": 2,
   "metadata": {},
   "outputs": [],
   "source": [
    "import matplotlib.pyplot as plt\n",
    "%matplotlib inline\n",
    "import numpy as np\n",
    "import pandas as pd\n",
    "import seaborn as sns\n",
    "from sklearn.preprocessing import StandardScaler, MinMaxScaler"
   ]
  },
  {
   "cell_type": "code",
   "execution_count": 8,
   "metadata": {},
   "outputs": [],
   "source": [
    "noise = np.random.normal(size=1000) * 200\n",
    "X = np.arange(1000)*2 + 300 + noise\n",
    "X = X.reshape(-1, 1)"
   ]
  },
  {
   "cell_type": "markdown",
   "metadata": {},
   "source": [
    "## Zad. 1\n",
    "### Zaimplementuj własną funkcję do normalizacji średniej *mean_normalization(X)*.\n",
    "$$ X' = \\frac{X - X.mean()}{X.max() - X.min()}$$\n",
    "\n",
    "Wykonaj wykres porównujący Twoje customowe scalowanie z zaprezentowanymi rozwiązaniami (StandardScaler i MinMaxScaler).\n",
    "\n",
    "P.S. Przyjmij, że X.shape = (m, 1), gdzie m to liczba próbek."
   ]
  },
  {
   "cell_type": "markdown",
   "metadata": {},
   "source": [
    "## Zad. 2 *\n",
    "### Zaimplementuj obiekt do normalizacji średniej *MeanNormalizer* z funkcjami: *fit_trainsform(X)* oraz *inverse_transform(X')* "
   ]
  },
  {
   "cell_type": "code",
   "execution_count": null,
   "metadata": {},
   "outputs": [],
   "source": []
  }
 ],
 "metadata": {
  "kernelspec": {
   "display_name": "Python 3",
   "language": "python",
   "name": "python3"
  },
  "language_info": {
   "codemirror_mode": {
    "name": "ipython",
    "version": 3
   },
   "file_extension": ".py",
   "mimetype": "text/x-python",
   "name": "python",
   "nbconvert_exporter": "python",
   "pygments_lexer": "ipython3",
   "version": "3.7.0"
  }
 },
 "nbformat": 4,
 "nbformat_minor": 2
}
