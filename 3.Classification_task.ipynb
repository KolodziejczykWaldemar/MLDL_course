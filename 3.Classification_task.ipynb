{
 "cells": [
  {
   "cell_type": "markdown",
   "metadata": {},
   "source": [
    "## Zad. 1\n",
    "### Dobierz optymalny klasyfikator, wykorzystując:\n",
    "* #### walidację krzyżową dla k=10, \n",
    "* #### przydzielony do Ciebie typ scalera,\n",
    "* #### przydzielony do Ciebie typ modelu. \n",
    "\n",
    "### Przeszukaj przestrzeń hiperparametrów w poszukiwaniu najlepszego modelu, który będzie skutecznie klasyfikował ludzi z cukrzycą (tzn. wskaże jak najwięcej osób chorych).\n",
    "\n",
    "### Dla najlepszego modelu wyznacz (wartości średnie z walidacji krzyżowej):\n",
    "* #### TP,\n",
    "* #### TN,\n",
    "* #### FP,\n",
    "* #### FN,\n",
    "* #### Accuracy,\n",
    "* #### Precision,\n",
    "* #### Recall,\n",
    "* #### AUC.\n",
    "\n",
    "### Wyniki przestaw w tabeli w Google Sheets, dołączając w kolumnie *info* wybrane optymalne hiperparamtery.\n",
    "\n",
    "#### Poniżej kod, który pomoże Ci zacząć ;)"
   ]
  },
  {
   "cell_type": "code",
   "execution_count": 2,
   "metadata": {},
   "outputs": [],
   "source": [
    "import matplotlib.pyplot as plt\n",
    "%matplotlib inline\n",
    "import numpy as np\n",
    "import pandas as pd\n",
    "import seaborn as sns\n",
    "from sklearn.preprocessing import StandardScaler, MinMaxScaler"
   ]
  },
  {
   "cell_type": "code",
   "execution_count": 3,
   "metadata": {},
   "outputs": [],
   "source": [
    "data = pd.read_csv('diabetes_ready.csv')"
   ]
  },
  {
   "cell_type": "code",
   "execution_count": 4,
   "metadata": {},
   "outputs": [
    {
     "data": {
      "text/html": [
       "<div>\n",
       "<style scoped>\n",
       "    .dataframe tbody tr th:only-of-type {\n",
       "        vertical-align: middle;\n",
       "    }\n",
       "\n",
       "    .dataframe tbody tr th {\n",
       "        vertical-align: top;\n",
       "    }\n",
       "\n",
       "    .dataframe thead th {\n",
       "        text-align: right;\n",
       "    }\n",
       "</style>\n",
       "<table border=\"1\" class=\"dataframe\">\n",
       "  <thead>\n",
       "    <tr style=\"text-align: right;\">\n",
       "      <th></th>\n",
       "      <th>Continent_America</th>\n",
       "      <th>Continent_Asia</th>\n",
       "      <th>Pregnancies</th>\n",
       "      <th>Glucose</th>\n",
       "      <th>BloodPressure</th>\n",
       "      <th>SkinThickness</th>\n",
       "      <th>Insulin</th>\n",
       "      <th>BMI</th>\n",
       "      <th>Age</th>\n",
       "      <th>Outcome</th>\n",
       "    </tr>\n",
       "  </thead>\n",
       "  <tbody>\n",
       "    <tr>\n",
       "      <th>0</th>\n",
       "      <td>0</td>\n",
       "      <td>0</td>\n",
       "      <td>6</td>\n",
       "      <td>148.0</td>\n",
       "      <td>72.0</td>\n",
       "      <td>35.0</td>\n",
       "      <td>125.0</td>\n",
       "      <td>33.6</td>\n",
       "      <td>50.0</td>\n",
       "      <td>1</td>\n",
       "    </tr>\n",
       "    <tr>\n",
       "      <th>1</th>\n",
       "      <td>0</td>\n",
       "      <td>0</td>\n",
       "      <td>1</td>\n",
       "      <td>85.0</td>\n",
       "      <td>66.0</td>\n",
       "      <td>29.0</td>\n",
       "      <td>125.0</td>\n",
       "      <td>26.6</td>\n",
       "      <td>31.0</td>\n",
       "      <td>0</td>\n",
       "    </tr>\n",
       "    <tr>\n",
       "      <th>2</th>\n",
       "      <td>0</td>\n",
       "      <td>1</td>\n",
       "      <td>8</td>\n",
       "      <td>183.0</td>\n",
       "      <td>64.0</td>\n",
       "      <td>29.0</td>\n",
       "      <td>125.0</td>\n",
       "      <td>23.3</td>\n",
       "      <td>32.0</td>\n",
       "      <td>1</td>\n",
       "    </tr>\n",
       "    <tr>\n",
       "      <th>3</th>\n",
       "      <td>1</td>\n",
       "      <td>0</td>\n",
       "      <td>1</td>\n",
       "      <td>89.0</td>\n",
       "      <td>66.0</td>\n",
       "      <td>23.0</td>\n",
       "      <td>94.0</td>\n",
       "      <td>28.1</td>\n",
       "      <td>21.0</td>\n",
       "      <td>0</td>\n",
       "    </tr>\n",
       "    <tr>\n",
       "      <th>4</th>\n",
       "      <td>1</td>\n",
       "      <td>0</td>\n",
       "      <td>0</td>\n",
       "      <td>137.0</td>\n",
       "      <td>40.0</td>\n",
       "      <td>35.0</td>\n",
       "      <td>168.0</td>\n",
       "      <td>43.1</td>\n",
       "      <td>33.0</td>\n",
       "      <td>1</td>\n",
       "    </tr>\n",
       "  </tbody>\n",
       "</table>\n",
       "</div>"
      ],
      "text/plain": [
       "   Continent_America  Continent_Asia  Pregnancies  Glucose  BloodPressure  \\\n",
       "0                  0               0            6    148.0           72.0   \n",
       "1                  0               0            1     85.0           66.0   \n",
       "2                  0               1            8    183.0           64.0   \n",
       "3                  1               0            1     89.0           66.0   \n",
       "4                  1               0            0    137.0           40.0   \n",
       "\n",
       "   SkinThickness  Insulin   BMI   Age  Outcome  \n",
       "0           35.0    125.0  33.6  50.0        1  \n",
       "1           29.0    125.0  26.6  31.0        0  \n",
       "2           29.0    125.0  23.3  32.0        1  \n",
       "3           23.0     94.0  28.1  21.0        0  \n",
       "4           35.0    168.0  43.1  33.0        1  "
      ]
     },
     "execution_count": 4,
     "metadata": {},
     "output_type": "execute_result"
    }
   ],
   "source": [
    "data.head()"
   ]
  },
  {
   "cell_type": "code",
   "execution_count": 11,
   "metadata": {},
   "outputs": [],
   "source": [
    "scaler = StandardScaler() # Twój scaler"
   ]
  },
  {
   "cell_type": "code",
   "execution_count": 13,
   "metadata": {},
   "outputs": [],
   "source": [
    "data[['Pregnancies','Glucose', 'BloodPressure', 'SkinThickness', 'Insulin', 'BMI', 'Age']] = scaler.fit_transform(X=data[['Pregnancies','Glucose', 'BloodPressure', 'SkinThickness', 'Insulin', 'BMI', 'Age']])"
   ]
  },
  {
   "cell_type": "code",
   "execution_count": 14,
   "metadata": {},
   "outputs": [
    {
     "data": {
      "text/html": [
       "<div>\n",
       "<style scoped>\n",
       "    .dataframe tbody tr th:only-of-type {\n",
       "        vertical-align: middle;\n",
       "    }\n",
       "\n",
       "    .dataframe tbody tr th {\n",
       "        vertical-align: top;\n",
       "    }\n",
       "\n",
       "    .dataframe thead th {\n",
       "        text-align: right;\n",
       "    }\n",
       "</style>\n",
       "<table border=\"1\" class=\"dataframe\">\n",
       "  <thead>\n",
       "    <tr style=\"text-align: right;\">\n",
       "      <th></th>\n",
       "      <th>Continent_America</th>\n",
       "      <th>Continent_Asia</th>\n",
       "      <th>Pregnancies</th>\n",
       "      <th>Glucose</th>\n",
       "      <th>BloodPressure</th>\n",
       "      <th>SkinThickness</th>\n",
       "      <th>Insulin</th>\n",
       "      <th>BMI</th>\n",
       "      <th>Age</th>\n",
       "      <th>Outcome</th>\n",
       "    </tr>\n",
       "  </thead>\n",
       "  <tbody>\n",
       "    <tr>\n",
       "      <th>0</th>\n",
       "      <td>0</td>\n",
       "      <td>0</td>\n",
       "      <td>0.639947</td>\n",
       "      <td>0.865644</td>\n",
       "      <td>-0.031990</td>\n",
       "      <td>0.710981</td>\n",
       "      <td>-0.181541</td>\n",
       "      <td>0.168033</td>\n",
       "      <td>1.436720</td>\n",
       "      <td>1</td>\n",
       "    </tr>\n",
       "    <tr>\n",
       "      <th>1</th>\n",
       "      <td>0</td>\n",
       "      <td>0</td>\n",
       "      <td>-0.844885</td>\n",
       "      <td>-1.205942</td>\n",
       "      <td>-0.528319</td>\n",
       "      <td>-0.002011</td>\n",
       "      <td>-0.181541</td>\n",
       "      <td>-0.851427</td>\n",
       "      <td>-0.187563</td>\n",
       "      <td>0</td>\n",
       "    </tr>\n",
       "    <tr>\n",
       "      <th>2</th>\n",
       "      <td>0</td>\n",
       "      <td>1</td>\n",
       "      <td>1.233880</td>\n",
       "      <td>2.016526</td>\n",
       "      <td>-0.693761</td>\n",
       "      <td>-0.002011</td>\n",
       "      <td>-0.181541</td>\n",
       "      <td>-1.332029</td>\n",
       "      <td>-0.102074</td>\n",
       "      <td>1</td>\n",
       "    </tr>\n",
       "    <tr>\n",
       "      <th>3</th>\n",
       "      <td>1</td>\n",
       "      <td>0</td>\n",
       "      <td>-0.844885</td>\n",
       "      <td>-1.074413</td>\n",
       "      <td>-0.528319</td>\n",
       "      <td>-0.715004</td>\n",
       "      <td>-0.540642</td>\n",
       "      <td>-0.632971</td>\n",
       "      <td>-1.042448</td>\n",
       "      <td>0</td>\n",
       "    </tr>\n",
       "    <tr>\n",
       "      <th>4</th>\n",
       "      <td>1</td>\n",
       "      <td>0</td>\n",
       "      <td>-1.141852</td>\n",
       "      <td>0.503939</td>\n",
       "      <td>-2.679076</td>\n",
       "      <td>0.710981</td>\n",
       "      <td>0.316566</td>\n",
       "      <td>1.551585</td>\n",
       "      <td>-0.016586</td>\n",
       "      <td>1</td>\n",
       "    </tr>\n",
       "  </tbody>\n",
       "</table>\n",
       "</div>"
      ],
      "text/plain": [
       "   Continent_America  Continent_Asia  Pregnancies   Glucose  BloodPressure  \\\n",
       "0                  0               0     0.639947  0.865644      -0.031990   \n",
       "1                  0               0    -0.844885 -1.205942      -0.528319   \n",
       "2                  0               1     1.233880  2.016526      -0.693761   \n",
       "3                  1               0    -0.844885 -1.074413      -0.528319   \n",
       "4                  1               0    -1.141852  0.503939      -2.679076   \n",
       "\n",
       "   SkinThickness   Insulin       BMI       Age  Outcome  \n",
       "0       0.710981 -0.181541  0.168033  1.436720        1  \n",
       "1      -0.002011 -0.181541 -0.851427 -0.187563        0  \n",
       "2      -0.002011 -0.181541 -1.332029 -0.102074        1  \n",
       "3      -0.715004 -0.540642 -0.632971 -1.042448        0  \n",
       "4       0.710981  0.316566  1.551585 -0.016586        1  "
      ]
     },
     "execution_count": 14,
     "metadata": {},
     "output_type": "execute_result"
    }
   ],
   "source": [
    "data.head()"
   ]
  },
  {
   "cell_type": "code",
   "execution_count": null,
   "metadata": {},
   "outputs": [],
   "source": []
  },
  {
   "cell_type": "markdown",
   "metadata": {},
   "source": [
    "# $$ y $$\n"
   ]
  },
  {
   "cell_type": "markdown",
   "metadata": {},
   "source": [
    "# $$ \\hat{y} = \\theta_0 + \\theta_1 x_1   $$\n"
   ]
  },
  {
   "cell_type": "markdown",
   "metadata": {},
   "source": [
    "# $$ \\hat{y} = \\theta_0 + \\theta_1 x_1 + \\theta_2 x_2 + \\theta_3 x_3 + ... + \\theta_n x_n   $$"
   ]
  },
  {
   "cell_type": "markdown",
   "metadata": {},
   "source": [
    "# $$MSE = \\frac{1}{m} \\sum_{i=1}^{m} (\\hat{y}^{(i)} - y^{(i)})^2$$ "
   ]
  },
  {
   "cell_type": "markdown",
   "metadata": {},
   "source": [
    "# $$ \\hat{y} = \\theta_0 + \\theta_{11} x_1 + \\theta_{12} x_1^2   $$\n"
   ]
  },
  {
   "cell_type": "markdown",
   "metadata": {},
   "source": [
    "# $$ \\hat{y} = \\theta_0 + \\theta_{11} x_1 + \\theta_{12} x_1^2 + \\theta_{21} x_2 + \\theta_{22} x_2^2 + ... + \\theta_{n1} x_n + \\theta_{n2} x_n^2 $$\n"
   ]
  },
  {
   "cell_type": "markdown",
   "metadata": {},
   "source": [
    "# $$ \\hat{y} = \\theta_0 + \\theta_{11} x_1 + \\theta_{12} x_1^2 + \\theta_{13} x_1^3 + ... + \\theta_{1p} x_1^p  $$\n"
   ]
  },
  {
   "cell_type": "markdown",
   "metadata": {},
   "source": []
  },
  {
   "cell_type": "code",
   "execution_count": null,
   "metadata": {},
   "outputs": [],
   "source": []
  },
  {
   "cell_type": "code",
   "execution_count": null,
   "metadata": {},
   "outputs": [],
   "source": []
  },
  {
   "cell_type": "code",
   "execution_count": null,
   "metadata": {},
   "outputs": [],
   "source": []
  },
  {
   "cell_type": "code",
   "execution_count": null,
   "metadata": {},
   "outputs": [],
   "source": []
  }
 ],
 "metadata": {
  "kernelspec": {
   "display_name": "Python3_influx",
   "language": "python",
   "name": "testenv"
  },
  "language_info": {
   "codemirror_mode": {
    "name": "ipython",
    "version": 3
   },
   "file_extension": ".py",
   "mimetype": "text/x-python",
   "name": "python",
   "nbconvert_exporter": "python",
   "pygments_lexer": "ipython3",
   "version": "3.5.2"
  }
 },
 "nbformat": 4,
 "nbformat_minor": 2
}
